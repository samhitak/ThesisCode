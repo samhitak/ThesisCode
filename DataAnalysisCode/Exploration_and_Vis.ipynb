{
 "cells": [
  {
   "cell_type": "code",
   "execution_count": null,
   "metadata": {
    "collapsed": true
   },
   "outputs": [],
   "source": [
    "import pandas as pd\n",
    "import numpy as np\n",
    "import networkx as nx\n",
    "import scipy.stats as stats\n",
    "import ast\n",
    "import matplotlib.pyplot as plt\n",
    "from datetime import datetime as dt\n",
    "from random import randint\n",
    "from collections import Counter\n",
    "import math\n",
    "from random import randint\n",
    "import random\n",
    "import datetime\n",
    "from sklearn.metrics import roc_curve, auc\n",
    "import matplotlib\n",
    "import matplotlib.pyplot as plt\n",
    "from sklearn.feature_extraction.text import TfidfVectorizer\n",
    "import seaborn as sns\n",
    "from scipy.misc import factorial\n",
    "import nltk\n",
    "import scipy.stats\n",
    "from numpy import linspace\n",
    "%matplotlib inline "
   ]
  },
  {
   "cell_type": "code",
   "execution_count": null,
   "metadata": {
    "collapsed": true
   },
   "outputs": [],
   "source": [
    "users = pd.read_csv('users.csv', encoding = \"ISO-8859-1\")\n",
    "articles = pd.read_csv('articles.csv', encoding = \"ISO-8859-1\")"
   ]
  },
  {
   "cell_type": "code",
   "execution_count": null,
   "metadata": {
    "collapsed": true
   },
   "outputs": [],
   "source": [
    "articles_clicked = articles[articles[\"articleClicked\"] == True]"
   ]
  },
  {
   "cell_type": "code",
   "execution_count": null,
   "metadata": {
    "collapsed": true
   },
   "outputs": [],
   "source": [
    "len(articles_clicked)"
   ]
  },
  {
   "cell_type": "code",
   "execution_count": null,
   "metadata": {
    "collapsed": true
   },
   "outputs": [],
   "source": [
    "c = Counter(users[\"gender\"])\n",
    "c.most_common(2)"
   ]
  },
  {
   "cell_type": "code",
   "execution_count": null,
   "metadata": {
    "collapsed": true
   },
   "outputs": [],
   "source": [
    "user_list = set(users[\"userHash\"])\n",
    "f_count = 0\n",
    "m_count = 0\n",
    "for i in range(0, len(articles_clicked)):\n",
    "    currUserHash = int(articles_clicked.iloc[i][\"userHash\"])\n",
    "    if currUserHash in user_list:\n",
    "        currUserLine = users[users[\"userHash\"] == currUserHash].reset_index()\n",
    "        currGender = currUserLine[\"gender\"][0]\n",
    "\n",
    "        if currGender == \"Female\":\n",
    "            f_count = f_count + 1\n",
    "        elif currGender == \"Male\":\n",
    "            m_count = m_count + 1"
   ]
  },
  {
   "cell_type": "code",
   "execution_count": null,
   "metadata": {
    "collapsed": true
   },
   "outputs": [],
   "source": [
    "# data to plot\n",
    "n_groups = 2\n",
    "female = (6949, 3214)\n",
    "male = (4609, 3314)\n",
    " \n",
    "# create plot\n",
    "fig, ax = plt.subplots()\n",
    "index = np.arange(n_groups)\n",
    "bar_width = 0.35\n",
    "opacity = 0.8\n",
    " \n",
    "rects1 = plt.bar(index, female, bar_width,\n",
    "                 alpha=opacity,\n",
    "                 color='#D8BFD8',\n",
    "                 label='Female',\n",
    "                 edgecolor='none',\n",
    "                 linewidth=0)\n",
    " \n",
    "rects2 = plt.bar(index + bar_width, male, bar_width,\n",
    "                 alpha=opacity,\n",
    "                 color='#CFDBC5',\n",
    "                 label='Male',\n",
    "                 edgecolor='none',\n",
    "                 linewidth=0)\n",
    " \n",
    "#plt.xlabel('Gender')\n",
    "plt.ylabel('Number of Articles')\n",
    "#plt.title('Scores by person')\n",
    "plt.xticks(index + bar_width, ('Articles Seen', 'Articles Clicked'))\n",
    "plt.legend()\n",
    "plt.tight_layout()\n",
    "plt.title('Articles Clicked and Seen by Participant Gender')\n",
    "plt.savefig(\"clicks_engagement_gender.png\")\n",
    "plt.show()"
   ]
  },
  {
   "cell_type": "code",
   "execution_count": null,
   "metadata": {
    "collapsed": true
   },
   "outputs": [],
   "source": [
    "articlesWSharers = articles[articles['sharerHash'] != '[]'].reset_index()"
   ]
  },
  {
   "cell_type": "code",
   "execution_count": null,
   "metadata": {
    "collapsed": true
   },
   "outputs": [],
   "source": [
    "len(articlesWSharers)"
   ]
  },
  {
   "cell_type": "code",
   "execution_count": null,
   "metadata": {
    "collapsed": true
   },
   "outputs": [],
   "source": [
    "sharerList = []\n",
    "for i in range(0, len(articlesWSharers)):\n",
    "    currSharerList = ast.literal_eval(articles.iloc[i][\"sharerHash\"])\n",
    "    for j in currSharerList:\n",
    "        sharerList.append(j)"
   ]
  },
  {
   "cell_type": "code",
   "execution_count": null,
   "metadata": {
    "collapsed": true
   },
   "outputs": [],
   "source": [
    "len(set(sharerList))"
   ]
  },
  {
   "cell_type": "code",
   "execution_count": null,
   "metadata": {
    "collapsed": true
   },
   "outputs": [],
   "source": [
    "set(sharerList) & set(user_list)"
   ]
  },
  {
   "cell_type": "code",
   "execution_count": null,
   "metadata": {
    "collapsed": true
   },
   "outputs": [],
   "source": [
    "c = Counter(articles[\"userHash\"])\n",
    "c.most_common(3)"
   ]
  },
  {
   "cell_type": "code",
   "execution_count": null,
   "metadata": {
    "collapsed": true
   },
   "outputs": [],
   "source": [
    "clickedviews = 0\n",
    "notclickedviews = 0\n",
    "for i in range(0, len(articlesWSharers)):\n",
    "    currSharerList = ast.literal_eval(articlesWSharers.iloc[i][\"sharerHash\"])\n",
    "    if articlesWSharers.iloc[i][\"articleClicked\"] == True:\n",
    "        clickedviews = clickedviews + len(currSharerList)\n",
    "    else:\n",
    "        notclickedviews = notclickedviews + len(currSharerList)"
   ]
  },
  {
   "cell_type": "code",
   "execution_count": null,
   "metadata": {
    "collapsed": true
   },
   "outputs": [],
   "source": [
    "len(articlesWSharers[articlesWSharers[\"articleClicked\"] == True])"
   ]
  },
  {
   "cell_type": "code",
   "execution_count": null,
   "metadata": {
    "collapsed": true
   },
   "outputs": [],
   "source": [
    "len(articlesWSharers)"
   ]
  },
  {
   "cell_type": "code",
   "execution_count": null,
   "metadata": {
    "collapsed": true
   },
   "outputs": [],
   "source": [
    "clicked_articles = articles[articles[\"articleClicked\"] == True]"
   ]
  },
  {
   "cell_type": "code",
   "execution_count": null,
   "metadata": {
    "collapsed": true
   },
   "outputs": [],
   "source": [
    "titles = clicked_articles[\"articleTitle\"]"
   ]
  },
  {
   "cell_type": "code",
   "execution_count": null,
   "metadata": {
    "collapsed": true
   },
   "outputs": [],
   "source": [
    "titles_2 = []\n",
    "bad = []\n",
    "for i in titles:\n",
    "    if type(i) == float:\n",
    "        bad.append(i)\n",
    "    else:\n",
    "        titles_2.append(i)"
   ]
  },
  {
   "cell_type": "code",
   "execution_count": null,
   "metadata": {
    "collapsed": true
   },
   "outputs": [],
   "source": [
    "docs = titles_2\n",
    "tfidf = TfidfVectorizer(stop_words='english')\n",
    "output = tfidf.fit_transform(docs)"
   ]
  },
  {
   "cell_type": "code",
   "execution_count": null,
   "metadata": {
    "collapsed": true
   },
   "outputs": [],
   "source": [
    "feature_array = np.array(tfidf.get_feature_names())"
   ]
  },
  {
   "cell_type": "code",
   "execution_count": null,
   "metadata": {
    "collapsed": true
   },
   "outputs": [],
   "source": [
    "print((feature_array))"
   ]
  },
  {
   "cell_type": "code",
   "execution_count": null,
   "metadata": {
    "collapsed": true
   },
   "outputs": [],
   "source": [
    "tfidf_sorting = np.argsort(output.toarray()).flatten()[::-1]"
   ]
  },
  {
   "cell_type": "code",
   "execution_count": null,
   "metadata": {
    "collapsed": true
   },
   "outputs": [],
   "source": [
    "top_n = feature_array[tfidf_sorting][:3]"
   ]
  },
  {
   "cell_type": "code",
   "execution_count": null,
   "metadata": {
    "collapsed": true
   },
   "outputs": [],
   "source": [
    "big_titles = \"\"\n",
    "for i in titles_2:\n",
    "    big_titles = big_titles + \" \" + i.lower()"
   ]
  },
  {
   "cell_type": "code",
   "execution_count": null,
   "metadata": {
    "collapsed": true
   },
   "outputs": [],
   "source": [
    "big_titles_arr = big_titles.split()"
   ]
  },
  {
   "cell_type": "code",
   "execution_count": null,
   "metadata": {
    "collapsed": true
   },
   "outputs": [],
   "source": [
    "c = Counter(big_titles_arr)"
   ]
  },
  {
   "cell_type": "code",
   "execution_count": null,
   "metadata": {
    "collapsed": true
   },
   "outputs": [],
   "source": [
    "c.most_common()"
   ]
  },
  {
   "cell_type": "code",
   "execution_count": null,
   "metadata": {
    "collapsed": true
   },
   "outputs": [],
   "source": [
    "# data to plot\n",
    "words_seen = (\"what\", \"people\", \"2018\", \"who\", \"school\", \"trump\", \"why\", \"now\", \"student\", \"princeton\")\n",
    "words_seen_counts = (159, 157, 155, 139, 139, 135, 133, 127, 112, 108)\n",
    " \n",
    "indexes = np.arange(len(words_seen))\n",
    "width = 0.7\n",
    "plt.bar(indexes, words_seen_counts, width, color='#CFDBC5', linewidth=0)\n",
    "plt.xticks(indexes + width * 0.5, words_seen)\n",
    "plt.rcParams[\"figure.figsize\"] = [15, 5]\n",
    "plt.title(\"Top 10 Words from All Articles\")\n",
    "plt.savefig(\"top_words_articles.png\")\n",
    "\n",
    "plt.show()"
   ]
  },
  {
   "cell_type": "code",
   "execution_count": null,
   "metadata": {
    "collapsed": true
   },
   "outputs": [],
   "source": [
    "# data to plot\n",
    "words_seen = (\"princeton\", \"what\", \"students\", \"people\", \"school\", \"trump\", \"gun\", \"free\", \"only\", \"love\")\n",
    "words_seen_counts = (73, 69, 68, 67, 67, 52, 49, 47, 46, 44)\n",
    " \n",
    "indexes = np.arange(len(words_seen))\n",
    "width = 0.7\n",
    "plt.bar(indexes, words_seen_counts, width, color='#CFDBC5', linewidth=0)\n",
    "plt.xticks(indexes + width * 0.5, words_seen)\n",
    "plt.rcParams[\"figure.figsize\"] = [15, 5]\n",
    "plt.title(\"Top 10 Words from Clicked on Articles\")\n",
    "plt.savefig(\"top_words_clicked.png\")\n",
    "\n",
    "plt.show()"
   ]
  },
  {
   "cell_type": "code",
   "execution_count": null,
   "metadata": {
    "collapsed": true
   },
   "outputs": [],
   "source": [
    "punctuation = [',', '\"', '!', '?']\n",
    "counts = [0, 0, 0, 0]\n",
    "for i in big_titles_arr:\n",
    "    if i == ',':\n",
    "        counts[0] = counts[0] + 1\n",
    "    elif i == '\"':\n",
    "        counts[1] = counts[1] + 1\n",
    "    elif i == '!':\n",
    "        counts[2] = counts[2] + 1\n",
    "    elif i == '?':\n",
    "        counts[3] = counts[3] + 1"
   ]
  },
  {
   "cell_type": "code",
   "execution_count": null,
   "metadata": {
    "collapsed": true
   },
   "outputs": [],
   "source": [
    "c = Counter(articles[\"articleTitle\"])\n",
    "len(c)"
   ]
  },
  {
   "cell_type": "code",
   "execution_count": null,
   "metadata": {
    "collapsed": true
   },
   "outputs": [],
   "source": []
  },
  {
   "cell_type": "code",
   "execution_count": null,
   "metadata": {
    "collapsed": true
   },
   "outputs": [],
   "source": [
    "forgraph = articles[articles['sharerHash'] != '[]']\n",
    "forgraph = forgraph.reset_index()\n",
    "c = Counter(forgraph[\"userHash\"])\n",
    "c.most_common(1)"
   ]
  },
  {
   "cell_type": "code",
   "execution_count": null,
   "metadata": {
    "collapsed": true
   },
   "outputs": [],
   "source": [
    "min_time = dt.strptime(\"Fri, 23 Mar 2018 07:37:16 GMT\", \"%a, %d %b %Y %H:%M:%S %Z\")\n",
    "max_time = dt.strptime(\"Fri, 23 Mar 2018 07:37:16 GMT\", \"%a, %d %b %Y %H:%M:%S %Z\")\n",
    "\n",
    "for i in range(0, len(users_articles)):\n",
    "    for t in ast.literal_eval(articles.iloc[i][\"articleSeenTime\"]):\n",
    "        if dt.strptime(t, \"%a, %d %b %Y %H:%M:%S %Z\") > max_time:\n",
    "            max_time = dt.strptime(t, \"%a, %d %b %Y %H:%M:%S %Z\")\n",
    "        if dt.strptime(t, \"%a, %d %b %Y %H:%M:%S %Z\") < min_time:\n",
    "            min_time = dt.strptime(t, \"%a, %d %b %Y %H:%M:%S %Z\")"
   ]
  },
  {
   "cell_type": "code",
   "execution_count": null,
   "metadata": {
    "collapsed": true
   },
   "outputs": [],
   "source": [
    "all_genders = users[\"gender\"]\n",
    "all_users = users[\"userHash\"]\n",
    "\n",
    "users_userHashes = users[\"userHash\"]\n",
    "users_userHashes = [int(i) for i in users_userHashes]\n",
    "articles_userHashes = forgraph[\"userHash\"]\n",
    "articles_userHashes = [int(i) for i in articles_userHashes]\n",
    "valid_userHashes = list(set(users_userHashes) & set(articles_userHashes))\n",
    "valid_interactions_temp = forgraph[forgraph[\"userHash\"].isin(valid_userHashes)]\n",
    "valid_interactions = valid_interactions_temp.reset_index()"
   ]
  },
  {
   "cell_type": "code",
   "execution_count": null,
   "metadata": {
    "collapsed": true
   },
   "outputs": [],
   "source": [
    "time1 = dt.strptime(\"Wed, 25 Feb 2018 07:07:58 GMT\", \"%a, %d %b %Y %H:%M:%S %Z\")\n",
    "time2 = dt.strptime(\"Thu, 01 Mar 2018 00:00:00 GMT\", \"%a, %d %b %Y %H:%M:%S %Z\")\n",
    "time3 = dt.strptime(\"Sat, 10 Mar 2018 00:00:00 GMT\", \"%a, %d %b %Y %H:%M:%S %Z\")\n",
    "time4 = dt.strptime(\"Mon, 19 Mar 2018 21:22:31 GMT\", \"%a, %d %b %Y %H:%M:%S %Z\")\n",
    "time5 = dt.strptime(\"Mon, 26 Mar 2018 00:00:00 GMT\", \"%a, %d %b %Y %H:%M:%S %Z\")"
   ]
  },
  {
   "cell_type": "code",
   "execution_count": null,
   "metadata": {
    "collapsed": true
   },
   "outputs": [],
   "source": [
    "g1 = makeGraph(time5, valid_interactions)"
   ]
  },
  {
   "cell_type": "code",
   "execution_count": null,
   "metadata": {
    "collapsed": true
   },
   "outputs": [],
   "source": [
    "# GENDER COLORING\n",
    "females = []\n",
    "males = []\n",
    "for i in range(0, len(all_genders)):\n",
    "    if all_genders[i] == \"Female\":\n",
    "        females.append(str(all_users[i]))\n",
    "    else:\n",
    "        males.append(str(all_users[i]))\n",
    "        \n",
    "colors = []\n",
    "outdegree = []\n",
    "sizes = []\n",
    "for i in g1.nodes():\n",
    "    if str(i) in females:\n",
    "        colors.append(\"#D3D3D3\")\n",
    "        sizes.append(50)\n",
    "    elif str(i) in males:\n",
    "        colors.append(\"#D3D3D3\")\n",
    "        sizes.append(50)\n",
    "    else:\n",
    "        deg = g1.degree(i)\n",
    "        outdegree.append(deg)\n",
    "        sizes.append(deg**2 + 20)\n",
    "        if 0 < deg < 5:\n",
    "            colors.append(\"#FFFC1F, alpha=0.5\")\n",
    "        elif 5 <= deg < 10:\n",
    "            colors.append(\"#FCDC23\")\n",
    "        elif 10 <= deg < 15:\n",
    "            colors.append(\"#FABD28\")\n",
    "        elif 15 <= deg < 20:\n",
    "            colors.append(\"#F79D2C\")\n",
    "        elif 20 <= deg < 25:\n",
    "            colors.append(\"#F57E31\")\n",
    "        elif 25 <= deg < 30:\n",
    "            colors.append(\"#F25E36\")\n",
    "        elif 30 <= deg < 40:\n",
    "            colors.append(\"#F03F3A\")\n",
    "        elif 40 <= deg < 50:\n",
    "            colors.append(\"#ED1F3F\")\n",
    "        else:\n",
    "            colors.append(\"#EB0044\")"
   ]
  },
  {
   "cell_type": "code",
   "execution_count": null,
   "metadata": {
    "collapsed": true
   },
   "outputs": [],
   "source": [
    "nx.draw(g1, node_size=sizes,  node_color=colors, arrows=False)\n",
    "plt.savefig(\"outdegree2.png\")\n",
    "plt.show()"
   ]
  },
  {
   "cell_type": "code",
   "execution_count": null,
   "metadata": {
    "collapsed": true
   },
   "outputs": [],
   "source": [
    "buckets=[\"0-5\", \"6-10\", \"11-15\", \"16-20\", \"21-25\", \"26-30\", \"31-35\", \"36-40\", \"41-45\", \"46-50\", \"51-55\", \"56-60\"]\n",
    "y_pos = np.arange(len(buckets))\n",
    "counts = [buck1count, buck2count, buck3count, buck4count, buck5count, buck6count, buck7count, buck8count, buck9count, buck10count, buck11count, buck12count]\n",
    "\n",
    "plt.figure(figsize=(10, 5), facecolor='w', edgecolor='k')\n",
    "barlist = plt.bar(y_pos, counts, align='center', alpha=0.5)\n",
    "barlist[0].set_color('#FFFC1F')\n",
    "barlist[1].set_color('#FCDC23')\n",
    "barlist[5].set_color('#F57E31')\n",
    "barlist[11].set_color('#EB0044')\n",
    "plt.xticks(y_pos, buckets)\n",
    "plt.ylabel('Log of Number of Sharer Nodes')\n",
    "plt.xlabel('Outdegree')\n",
    "plt.title('Distribution of Sharer Node Outdegree')\n",
    "plt.savefig(\"outdegdistribution.png\")\n",
    "plt.show()"
   ]
  },
  {
   "cell_type": "code",
   "execution_count": null,
   "metadata": {
    "collapsed": true
   },
   "outputs": [],
   "source": [
    "nx.draw(g1, node_size=50,  node_color=colors_gender, arrows=False)\n",
    "plt.savefig(\"gender.png\")\n",
    "plt.show()"
   ]
  }
 ],
 "metadata": {
  "kernelspec": {
   "display_name": "Python 3",
   "language": "python",
   "name": "python3"
  },
  "language_info": {
   "codemirror_mode": {
    "name": "ipython",
    "version": 3
   },
   "file_extension": ".py",
   "mimetype": "text/x-python",
   "name": "python",
   "nbconvert_exporter": "python",
   "pygments_lexer": "ipython3",
   "version": "3.5.4"
  }
 },
 "nbformat": 4,
 "nbformat_minor": 0
}
